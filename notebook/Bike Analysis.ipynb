{
 "cells": [
  {
   "cell_type": "code",
   "execution_count": 1,
   "metadata": {},
   "outputs": [],
   "source": [
    "import geopandas as gpd\n",
    "import numpy as np\n",
    "import pandas as pd\n",
    "import csv\n",
    "import unidecode\n",
    "import geopandas as gpd\n",
    "import math\n",
    "import utm\n",
    "import matplotlib.pyplot as plt\n",
    "import seaborn as sns\n",
    "import matplotlib as mpl\n",
    "import geopy.distance"
   ]
  },
  {
   "cell_type": "code",
   "execution_count": 2,
   "metadata": {},
   "outputs": [],
   "source": [
    "# define algumas funções importantes\n",
    "\n",
    "# utilizada para calcular a media ponderada usando o FE_VIA\n",
    "def calculate_weighted_mean(data):\n",
    "    data['FE_VIA'] = data['FE_VIA'].apply(lambda x: 1 if math.isnan(x) else x)\n",
    "    data['FE_VIA'] = data['FE_VIA'].apply(lambda x: 1 if int(x) == 0 else x)\n",
    "    data['MP'] = data['FE_VIA'] * data['DURACAO']\n",
    "    return data\n",
    "\n",
    "# calcula a distancia entre os pontos\n",
    "def calculate_distance(row):  \n",
    "    origin = utm.to_latlon(row['CO_O_X'],row['CO_O_Y'], 23, 'K')\n",
    "    dest = utm.to_latlon(row['CO_D_X'],row['CO_D_Y'], 23, 'K')\n",
    "    return geopy.distance.geodesic(origin, dest).meters\n"
   ]
  },
  {
   "cell_type": "code",
   "execution_count": 3,
   "metadata": {},
   "outputs": [],
   "source": [
    "file = \"../data/dados17.csv\"\n",
    "\n",
    "# carrega os dados de 2017\n",
    "data17 = pd.read_csv(file, dtype={'ZONA_O': str, 'ZONA_D': str}, header=0,delimiter=\";\", low_memory=False) \n",
    "data17 = data17.dropna(subset=['CO_O_X'])\n",
    "\n",
    "data17 = data17.drop(['ID_DOM', 'FE_DOM', 'VIA_BICI','TP_ESTBICI','F_FAM','FE_FAM','FAMILIA','NO_MORAF',\n",
    "                      'CONDMORA','QT_BANHO','QT_EMPRE','QT_AUTO','QT_MICRO','QT_LAVALOU','QT_GEL1'], axis=1)\n",
    "\n",
    "# calcula a distancia entre os pontos\n",
    "data17['DISTANCE'] = data17.apply(lambda x: calculate_distance(x), axis=1)\n",
    "\n",
    "# carrega os distritos\n",
    "csv_file = \"../data/regioes17.csv\"\n",
    "mydict = []\n",
    "with open(csv_file, mode='r') as infile:\n",
    "    reader = csv.reader(infile, delimiter=\";\")\n",
    "    mydict = {rows[0]:rows[1] for rows in reader}\n",
    "\n",
    "# carrega as zonas\n",
    "csv_file = \"../data/zonas17.csv\"\n",
    "zonas_nomes = []\n",
    "with open(csv_file, mode='r') as infile:\n",
    "    reader = csv.reader(infile, delimiter=\";\")\n",
    "    zonas_nomes = {rows[0]:rows[1] for rows in reader}\n",
    "    \n",
    "# viagens so dentro do municipio de sao paulo\n",
    "data17 = data17[data17['MUNI_O'] == 36]\n",
    "data17 = data17[data17['MUNI_D'] == 36]\n",
    "\n",
    "\n",
    "# troca os codigos pelo nome dos distritos e zonas\n",
    "data17['NOME_O'] = data17['ZONA_O'].apply(lambda x: '' if pd.isnull(x) else mydict[x])\n",
    "data17['NOME_D'] = data17['ZONA_D'].apply(lambda x: '' if pd.isnull(x) else mydict[x])\n",
    "\n",
    "data17['ZONA_O'] = data17['ZONA_O'].apply(lambda x: '' if pd.isnull(x) else zonas_nomes[x])\n",
    "data17['ZONA_D'] = data17['ZONA_D'].apply(lambda x: '' if pd.isnull(x) else zonas_nomes[x])\n",
    "\n",
    "data17 = calculate_weighted_mean(data17)"
   ]
  },
  {
   "cell_type": "code",
   "execution_count": 4,
   "metadata": {},
   "outputs": [
    {
     "data": {
      "text/plain": [
       "0      Pedestre\n",
       "1      Pedestre\n",
       "2         Metrô\n",
       "3         Metrô\n",
       "4    Aplicativo\n",
       "Name: MODOPRIN, dtype: object"
      ]
     },
     "execution_count": 4,
     "metadata": {},
     "output_type": "execute_result"
    }
   ],
   "source": [
    "# coloca o nome dos modos de viagens\n",
    "\n",
    "modos17 = {0:'Outros',1:'Metrô',2:'Trem',3:'Metrô',4:'Ônibus',5:'Ônibus',6:'Ônibus',7:'Fretado', 8:'Escolar',9:'Carro (Mot)', 10: 'Carro (Pass)', 11:'Taxi', 12:'Aplicativo', 13:'Moto (Mot)', 14:'Moto (Pass)', 15:'Bicicleta', 16:'Pedestre', 17: 'Outros'}\n",
    "data17['MODOPRIN'] = data17['MODOPRIN'].replace(modos17)\n",
    "\n",
    "data17['MODOPRIN'].head()"
   ]
  },
  {
   "cell_type": "code",
   "execution_count": 5,
   "metadata": {},
   "outputs": [
    {
     "data": {
      "text/html": [
       "<div>\n",
       "<style scoped>\n",
       "    .dataframe tbody tr th:only-of-type {\n",
       "        vertical-align: middle;\n",
       "    }\n",
       "\n",
       "    .dataframe tbody tr th {\n",
       "        vertical-align: top;\n",
       "    }\n",
       "\n",
       "    .dataframe thead th {\n",
       "        text-align: right;\n",
       "    }\n",
       "</style>\n",
       "<table border=\"1\" class=\"dataframe\">\n",
       "  <thead>\n",
       "    <tr style=\"text-align: right;\">\n",
       "      <th></th>\n",
       "      <th>FE_VIA</th>\n",
       "    </tr>\n",
       "    <tr>\n",
       "      <th>MODOPRIN</th>\n",
       "      <th></th>\n",
       "    </tr>\n",
       "  </thead>\n",
       "  <tbody>\n",
       "    <tr>\n",
       "      <th>Fretado</th>\n",
       "      <td>3.337329e+04</td>\n",
       "    </tr>\n",
       "    <tr>\n",
       "      <th>Moto (Pass)</th>\n",
       "      <td>3.875655e+04</td>\n",
       "    </tr>\n",
       "    <tr>\n",
       "      <th>Outros</th>\n",
       "      <td>5.402288e+04</td>\n",
       "    </tr>\n",
       "    <tr>\n",
       "      <th>Taxi</th>\n",
       "      <td>8.274082e+04</td>\n",
       "    </tr>\n",
       "    <tr>\n",
       "      <th>Bicicleta</th>\n",
       "      <td>2.045023e+05</td>\n",
       "    </tr>\n",
       "    <tr>\n",
       "      <th>Aplicativo</th>\n",
       "      <td>2.485057e+05</td>\n",
       "    </tr>\n",
       "    <tr>\n",
       "      <th>Moto (Mot)</th>\n",
       "      <td>4.288413e+05</td>\n",
       "    </tr>\n",
       "    <tr>\n",
       "      <th>Trem</th>\n",
       "      <td>4.612448e+05</td>\n",
       "    </tr>\n",
       "    <tr>\n",
       "      <th>Escolar</th>\n",
       "      <td>1.109075e+06</td>\n",
       "    </tr>\n",
       "    <tr>\n",
       "      <th>Carro (Pass)</th>\n",
       "      <td>1.828925e+06</td>\n",
       "    </tr>\n",
       "    <tr>\n",
       "      <th>Metrô</th>\n",
       "      <td>2.525359e+06</td>\n",
       "    </tr>\n",
       "    <tr>\n",
       "      <th>Carro (Mot)</th>\n",
       "      <td>4.044565e+06</td>\n",
       "    </tr>\n",
       "    <tr>\n",
       "      <th>Ônibus</th>\n",
       "      <td>5.194132e+06</td>\n",
       "    </tr>\n",
       "    <tr>\n",
       "      <th>Pedestre</th>\n",
       "      <td>7.680108e+06</td>\n",
       "    </tr>\n",
       "  </tbody>\n",
       "</table>\n",
       "</div>"
      ],
      "text/plain": [
       "                    FE_VIA\n",
       "MODOPRIN                  \n",
       "Fretado       3.337329e+04\n",
       "Moto (Pass)   3.875655e+04\n",
       "Outros        5.402288e+04\n",
       "Taxi          8.274082e+04\n",
       "Bicicleta     2.045023e+05\n",
       "Aplicativo    2.485057e+05\n",
       "Moto (Mot)    4.288413e+05\n",
       "Trem          4.612448e+05\n",
       "Escolar       1.109075e+06\n",
       "Carro (Pass)  1.828925e+06\n",
       "Metrô         2.525359e+06\n",
       "Carro (Mot)   4.044565e+06\n",
       "Ônibus        5.194132e+06\n",
       "Pedestre      7.680108e+06"
      ]
     },
     "execution_count": 5,
     "metadata": {},
     "output_type": "execute_result"
    }
   ],
   "source": [
    "# agrupa pelo modo da viagem e soma tudo\n",
    "conj17 = data17[['MODOPRIN', 'FE_VIA']].groupby(['MODOPRIN']).sum().sort_values(by=['FE_VIA']).reset_index()\n",
    "conj17.columns = ['MODOPRIN', 'FE_VIA']\n",
    "conj17 = conj17.set_index('MODOPRIN')\n",
    "conj17"
   ]
  },
  {
   "cell_type": "code",
   "execution_count": 6,
   "metadata": {},
   "outputs": [
    {
     "data": {
      "text/plain": [
       "<Figure size 2160x1440 with 0 Axes>"
      ]
     },
     "metadata": {},
     "output_type": "display_data"
    },
    {
     "data": {
      "image/png": "[encoded data removed]",
      "text/plain": [
       "<Figure size 1296x720 with 1 Axes>"
      ]
     },
     "metadata": {
      "needs_background": "light"
     },
     "output_type": "display_data"
    }
   ],
   "source": [
    "plt.figure(figsize=(30,20))\n",
    "\n",
    "conj17['FE_VIA'] = conj17['FE_VIA'] / 1000\n",
    "ax = conj17.plot.bar(y='FE_VIA', rot=0, title =\"Número de viagens por modo\", fontsize = 12)\n",
    "ax.figure.set_size_inches(18,10)\n",
    "\n",
    "plt.xlabel('Modo de Viagem', fontsize=14)\n",
    "plt.ylabel('Número de Viagens (x1000)', fontsize=14)\n",
    "\n",
    "# plot table\n",
    "plt.show()"
   ]
  },
  {
   "cell_type": "code",
   "execution_count": 7,
   "metadata": {},
   "outputs": [
    {
     "data": {
      "text/html": [
       "<div>\n",
       "<style scoped>\n",
       "    .dataframe tbody tr th:only-of-type {\n",
       "        vertical-align: middle;\n",
       "    }\n",
       "\n",
       "    .dataframe tbody tr th {\n",
       "        vertical-align: top;\n",
       "    }\n",
       "\n",
       "    .dataframe thead th {\n",
       "        text-align: right;\n",
       "    }\n",
       "</style>\n",
       "<table border=\"1\" class=\"dataframe\">\n",
       "  <thead>\n",
       "    <tr style=\"text-align: right;\">\n",
       "      <th></th>\n",
       "      <th>FE_VIA</th>\n",
       "    </tr>\n",
       "    <tr>\n",
       "      <th>MODOPRIN</th>\n",
       "      <th></th>\n",
       "    </tr>\n",
       "  </thead>\n",
       "  <tbody>\n",
       "    <tr>\n",
       "      <th>Fretado</th>\n",
       "      <td>33.373288</td>\n",
       "    </tr>\n",
       "    <tr>\n",
       "      <th>Moto (Pass)</th>\n",
       "      <td>38.756545</td>\n",
       "    </tr>\n",
       "    <tr>\n",
       "      <th>Outros</th>\n",
       "      <td>54.022884</td>\n",
       "    </tr>\n",
       "    <tr>\n",
       "      <th>Taxi</th>\n",
       "      <td>82.740818</td>\n",
       "    </tr>\n",
       "    <tr>\n",
       "      <th>Bicicleta</th>\n",
       "      <td>204.502333</td>\n",
       "    </tr>\n",
       "    <tr>\n",
       "      <th>Aplicativo</th>\n",
       "      <td>248.505666</td>\n",
       "    </tr>\n",
       "    <tr>\n",
       "      <th>Moto (Mot)</th>\n",
       "      <td>428.841262</td>\n",
       "    </tr>\n",
       "    <tr>\n",
       "      <th>Trem</th>\n",
       "      <td>461.244814</td>\n",
       "    </tr>\n",
       "    <tr>\n",
       "      <th>Escolar</th>\n",
       "      <td>1109.074797</td>\n",
       "    </tr>\n",
       "    <tr>\n",
       "      <th>Carro (Pass)</th>\n",
       "      <td>1828.925222</td>\n",
       "    </tr>\n",
       "    <tr>\n",
       "      <th>Metrô</th>\n",
       "      <td>2525.359141</td>\n",
       "    </tr>\n",
       "    <tr>\n",
       "      <th>Carro (Mot)</th>\n",
       "      <td>4044.564522</td>\n",
       "    </tr>\n",
       "    <tr>\n",
       "      <th>Ônibus</th>\n",
       "      <td>5194.131997</td>\n",
       "    </tr>\n",
       "    <tr>\n",
       "      <th>Pedestre</th>\n",
       "      <td>7680.108022</td>\n",
       "    </tr>\n",
       "  </tbody>\n",
       "</table>\n",
       "</div>"
      ],
      "text/plain": [
       "                   FE_VIA\n",
       "MODOPRIN                 \n",
       "Fretado         33.373288\n",
       "Moto (Pass)     38.756545\n",
       "Outros          54.022884\n",
       "Taxi            82.740818\n",
       "Bicicleta      204.502333\n",
       "Aplicativo     248.505666\n",
       "Moto (Mot)     428.841262\n",
       "Trem           461.244814\n",
       "Escolar       1109.074797\n",
       "Carro (Pass)  1828.925222\n",
       "Metrô         2525.359141\n",
       "Carro (Mot)   4044.564522\n",
       "Ônibus        5194.131997\n",
       "Pedestre      7680.108022"
      ]
     },
     "execution_count": 7,
     "metadata": {},
     "output_type": "execute_result"
    }
   ],
   "source": [
    "conj17"
   ]
  },
  {
   "cell_type": "markdown",
   "metadata": {},
   "source": [
    "4 milhões de carro 200  mil de bicicleta"
   ]
  },
  {
   "cell_type": "code",
   "execution_count": 8,
   "metadata": {},
   "outputs": [
    {
     "data": {
      "text/plain": [
       "23934.151310251127"
      ]
     },
     "execution_count": 8,
     "metadata": {},
     "output_type": "execute_result"
    }
   ],
   "source": [
    "# numero total de viagens em SP\n",
    "\n",
    "conj17['FE_VIA'].sum()"
   ]
  },
  {
   "cell_type": "code",
   "execution_count": 9,
   "metadata": {},
   "outputs": [
    {
     "data": {
      "text/html": [
       "<div>\n",
       "<style scoped>\n",
       "    .dataframe tbody tr th:only-of-type {\n",
       "        vertical-align: middle;\n",
       "    }\n",
       "\n",
       "    .dataframe tbody tr th {\n",
       "        vertical-align: top;\n",
       "    }\n",
       "\n",
       "    .dataframe thead th {\n",
       "        text-align: right;\n",
       "    }\n",
       "</style>\n",
       "<table border=\"1\" class=\"dataframe\">\n",
       "  <thead>\n",
       "    <tr style=\"text-align: right;\">\n",
       "      <th></th>\n",
       "      <th>Bicicleta</th>\n",
       "      <th>Total</th>\n",
       "      <th>Bicicleta (%)</th>\n",
       "    </tr>\n",
       "    <tr>\n",
       "      <th>NOME_O</th>\n",
       "      <th></th>\n",
       "      <th></th>\n",
       "      <th></th>\n",
       "    </tr>\n",
       "  </thead>\n",
       "  <tbody>\n",
       "    <tr>\n",
       "      <th>Vila Guilherme</th>\n",
       "      <td>7184.0</td>\n",
       "      <td>147084.0</td>\n",
       "      <td>4.88</td>\n",
       "    </tr>\n",
       "    <tr>\n",
       "      <th>Jardim Helena</th>\n",
       "      <td>8629.0</td>\n",
       "      <td>204378.0</td>\n",
       "      <td>4.22</td>\n",
       "    </tr>\n",
       "    <tr>\n",
       "      <th>Jaguare</th>\n",
       "      <td>3293.0</td>\n",
       "      <td>98784.0</td>\n",
       "      <td>3.33</td>\n",
       "    </tr>\n",
       "    <tr>\n",
       "      <th>Ipiranga</th>\n",
       "      <td>10386.0</td>\n",
       "      <td>318122.0</td>\n",
       "      <td>3.26</td>\n",
       "    </tr>\n",
       "    <tr>\n",
       "      <th>Vila Maria</th>\n",
       "      <td>7304.0</td>\n",
       "      <td>227562.0</td>\n",
       "      <td>3.21</td>\n",
       "    </tr>\n",
       "    <tr>\n",
       "      <th>Iguatemi</th>\n",
       "      <td>6567.0</td>\n",
       "      <td>211175.0</td>\n",
       "      <td>3.11</td>\n",
       "    </tr>\n",
       "    <tr>\n",
       "      <th>Socorro</th>\n",
       "      <td>3062.0</td>\n",
       "      <td>118084.0</td>\n",
       "      <td>2.59</td>\n",
       "    </tr>\n",
       "    <tr>\n",
       "      <th>Pari</th>\n",
       "      <td>1711.0</td>\n",
       "      <td>72105.0</td>\n",
       "      <td>2.37</td>\n",
       "    </tr>\n",
       "    <tr>\n",
       "      <th>Pinheiros</th>\n",
       "      <td>8215.0</td>\n",
       "      <td>366260.0</td>\n",
       "      <td>2.24</td>\n",
       "    </tr>\n",
       "    <tr>\n",
       "      <th>Itaim Bibi</th>\n",
       "      <td>11245.0</td>\n",
       "      <td>547034.0</td>\n",
       "      <td>2.06</td>\n",
       "    </tr>\n",
       "  </tbody>\n",
       "</table>\n",
       "</div>"
      ],
      "text/plain": [
       "                Bicicleta     Total  Bicicleta (%)\n",
       "NOME_O                                            \n",
       "Vila Guilherme     7184.0  147084.0           4.88\n",
       "Jardim Helena      8629.0  204378.0           4.22\n",
       "Jaguare            3293.0   98784.0           3.33\n",
       "Ipiranga          10386.0  318122.0           3.26\n",
       "Vila Maria         7304.0  227562.0           3.21\n",
       "Iguatemi           6567.0  211175.0           3.11\n",
       "Socorro            3062.0  118084.0           2.59\n",
       "Pari               1711.0   72105.0           2.37\n",
       "Pinheiros          8215.0  366260.0           2.24\n",
       "Itaim Bibi        11245.0  547034.0           2.06"
      ]
     },
     "execution_count": 9,
     "metadata": {},
     "output_type": "execute_result"
    }
   ],
   "source": [
    "# agrupa o modo de viagem por distritos e filtro apenas para bicicletas\n",
    "\n",
    "modo_distri = data17[['MODOPRIN', 'NOME_O', 'FE_VIA']].groupby(['MODOPRIN','NOME_O']).sum().sort_values(by=['FE_VIA']).reset_index()\n",
    "modo_distri.columns = ['MODOPRIN', 'NOME_O', 'FE_VIA_BIKE']\n",
    "modo_distri = modo_distri[modo_distri['MODOPRIN'] == 'Bicicleta']\n",
    "\n",
    "modo_distri = modo_distri.set_index('NOME_O')\n",
    "\n",
    "# agrupa o distrito e pega o total de viagens para cada\n",
    "distrito = data17[['NOME_O', 'FE_VIA']].groupby(['NOME_O']).sum().sort_values(by=['FE_VIA']).reset_index()\n",
    "distrito.columns = ['NOME_O', 'FE_VIA_TOTAL']\n",
    "distrito = distrito.set_index('NOME_O')\n",
    "\n",
    "# junta os dois dfs\n",
    "modo_distri = modo_distri.join(distrito)\n",
    "\n",
    "# calcula a % de viagens de bicicleta\n",
    "modo_distri = modo_distri.drop(['MODOPRIN'], axis=1)\n",
    "modo_distri['PORCETAGEM'] = modo_distri['FE_VIA_BIKE'] / modo_distri['FE_VIA_TOTAL'] * 100\n",
    "modo_distri.columns = ['Bicicleta', 'Total', 'Bicicleta (%)']\n",
    "modo_distri = modo_distri.round(2)\n",
    "modo_distri['Bicicleta'] = modo_distri['Bicicleta'].round(0)\n",
    "modo_distri['Total'] = modo_distri['Total'].round(0)\n",
    "modo_distri.sort_values(by=['Bicicleta (%)'],ascending=False).head(10)\n"
   ]
  },
  {
   "cell_type": "code",
   "execution_count": 10,
   "metadata": {},
   "outputs": [
    {
     "data": {
      "image/png": "[encoded data removed]",
      "text/plain": [
       "<Figure size 1152x720 with 1 Axes>"
      ]
     },
     "metadata": {
      "needs_background": "light"
     },
     "output_type": "display_data"
    },
    {
     "name": "stdout",
     "output_type": "stream",
     "text": [
      "               Bicicleta     Total  Bicicleta (%)  RENDA_FA\n",
      "Bicicleta       1.000000  0.190898       0.790813  0.190419\n",
      "Total           0.190898  1.000000      -0.290611  0.069306\n",
      "Bicicleta (%)   0.790813 -0.290611       1.000000  0.053798\n",
      "RENDA_FA        0.190419  0.069306       0.053798  1.000000\n"
     ]
    }
   ],
   "source": [
    "# verifica a relação entre RENDA e viagens de bicicleta\n",
    "\n",
    "distri_renda = data17[['NOME_O', 'RENDA_FA']].groupby(['NOME_O']).mean().sort_values(by=['RENDA_FA']).reset_index()\n",
    "distri_renda.columns = ['NOME_O', 'RENDA_FA']\n",
    "\n",
    "distri_renda = distri_renda.set_index('NOME_O')\n",
    "distri_renda.tail()\n",
    "\n",
    "\n",
    "distri_renda = modo_distri.join(distri_renda)\n",
    "distri_renda\n",
    "\n",
    "plt.figure(figsize=(16,10))\n",
    "\n",
    "sns.scatterplot(x=\"Bicicleta (%)\", y=\"RENDA_FA\", data=distri_renda).set_title('Renda x Viagens de Bicicleta')\n",
    "plt.xlabel('Viagens de Bicicleta (%)', fontsize=14)\n",
    "plt.ylabel('Renda do Distrito', fontsize=14)\n",
    "plt.show()\n",
    "\n",
    "print(distri_renda.corr())"
   ]
  },
  {
   "cell_type": "code",
   "execution_count": 42,
   "metadata": {},
   "outputs": [
    {
     "name": "stdout",
     "output_type": "stream",
     "text": [
      "                 Bicicleta     Total  Bicicleta (%)      media\n",
      "NOME_O                                                        \n",
      "Brasilandia          485.0  376310.0           0.13  34.097368\n",
      "Jardim Paulista     3677.0  397583.0           0.92  30.651802\n",
      "Iguatemi            6567.0  211175.0           3.11  30.454538\n",
      "Mandaqui            1513.0  181201.0           0.84  30.321233\n",
      "Tremembe            3769.0  353133.0           1.07  28.252254\n",
      "...                    ...       ...            ...        ...\n",
      "Itaim Bibi         11245.0  547034.0           2.06   7.447969\n",
      "Bom Retiro          2785.0  143674.0           1.94   7.111569\n",
      "Bras                1715.0  171126.0           1.00   3.591560\n",
      "Jardim Helena       8629.0  204378.0           4.22   3.415375\n",
      "Pari                1711.0   72105.0           2.37   3.223350\n",
      "\n",
      "[84 rows x 4 columns]\n"
     ]
    },
    {
     "data": {
      "image/png": "[encoded data removed]",
      "text/plain": [
       "<Figure size 1152x720 with 1 Axes>"
      ]
     },
     "metadata": {
      "needs_background": "light"
     },
     "output_type": "display_data"
    },
    {
     "name": "stdout",
     "output_type": "stream",
     "text": [
      "               Bicicleta     Total  Bicicleta (%)     media\n",
      "Bicicleta       1.000000  0.190898       0.790813 -0.182034\n",
      "Total           0.190898  1.000000      -0.290611  0.177365\n",
      "Bicicleta (%)   0.790813 -0.290611       1.000000 -0.283646\n",
      "media          -0.182034  0.177365      -0.283646  1.000000\n"
     ]
    }
   ],
   "source": [
    "inclinacao = pd.read_csv(\"../data/distrito_inclinacao.csv\", encoding='latin-1')\n",
    "inclinacao = inclinacao.set_index('NomeDistri')\n",
    "\n",
    "\n",
    "zona_inclinacao = modo_distri.join(inclinacao)\n",
    "\n",
    "zona_inclinacao = zona_inclinacao.sort_values(by=['media'], ascending=False)\n",
    "\n",
    "print(zona_inclinacao)\n",
    "\n",
    "plt.figure(figsize=(16,10))\n",
    "\n",
    "sns.scatterplot(x=\"Bicicleta (%)\", y=\"media\", data=zona_inclinacao).set_title('Inclinação x Viagens de Bicicleta')\n",
    "plt.xlabel('Viagens de Bicicleta (%)', fontsize=14)\n",
    "plt.ylabel('Inclinação', fontsize=14)\n",
    "plt.show()\n",
    "print(distri_inclinacao.corr())\n"
   ]
  },
  {
   "cell_type": "code",
   "execution_count": 12,
   "metadata": {},
   "outputs": [
    {
     "data": {
      "text/html": [
       "<div>\n",
       "<style scoped>\n",
       "    .dataframe tbody tr th:only-of-type {\n",
       "        vertical-align: middle;\n",
       "    }\n",
       "\n",
       "    .dataframe tbody tr th {\n",
       "        vertical-align: top;\n",
       "    }\n",
       "\n",
       "    .dataframe thead th {\n",
       "        text-align: right;\n",
       "    }\n",
       "</style>\n",
       "<table border=\"1\" class=\"dataframe\">\n",
       "  <thead>\n",
       "    <tr style=\"text-align: right;\">\n",
       "      <th></th>\n",
       "      <th>FE_VIA</th>\n",
       "      <th>POR</th>\n",
       "    </tr>\n",
       "    <tr>\n",
       "      <th>MODOPRIN</th>\n",
       "      <th></th>\n",
       "      <th></th>\n",
       "    </tr>\n",
       "  </thead>\n",
       "  <tbody>\n",
       "    <tr>\n",
       "      <th>Fretado</th>\n",
       "      <td>33.373288</td>\n",
       "      <td>0.139438</td>\n",
       "    </tr>\n",
       "    <tr>\n",
       "      <th>Moto (Pass)</th>\n",
       "      <td>38.756545</td>\n",
       "      <td>0.161930</td>\n",
       "    </tr>\n",
       "    <tr>\n",
       "      <th>Outros</th>\n",
       "      <td>54.022884</td>\n",
       "      <td>0.225715</td>\n",
       "    </tr>\n",
       "    <tr>\n",
       "      <th>Taxi</th>\n",
       "      <td>82.740818</td>\n",
       "      <td>0.345702</td>\n",
       "    </tr>\n",
       "    <tr>\n",
       "      <th>Bicicleta</th>\n",
       "      <td>204.502333</td>\n",
       "      <td>0.854437</td>\n",
       "    </tr>\n",
       "    <tr>\n",
       "      <th>Aplicativo</th>\n",
       "      <td>248.505666</td>\n",
       "      <td>1.038289</td>\n",
       "    </tr>\n",
       "    <tr>\n",
       "      <th>Moto (Mot)</th>\n",
       "      <td>428.841262</td>\n",
       "      <td>1.791755</td>\n",
       "    </tr>\n",
       "    <tr>\n",
       "      <th>Trem</th>\n",
       "      <td>461.244814</td>\n",
       "      <td>1.927141</td>\n",
       "    </tr>\n",
       "    <tr>\n",
       "      <th>Escolar</th>\n",
       "      <td>1109.074797</td>\n",
       "      <td>4.633859</td>\n",
       "    </tr>\n",
       "    <tr>\n",
       "      <th>Carro (Pass)</th>\n",
       "      <td>1828.925222</td>\n",
       "      <td>7.641488</td>\n",
       "    </tr>\n",
       "    <tr>\n",
       "      <th>Metrô</th>\n",
       "      <td>2525.359141</td>\n",
       "      <td>10.551279</td>\n",
       "    </tr>\n",
       "    <tr>\n",
       "      <th>Carro (Mot)</th>\n",
       "      <td>4044.564522</td>\n",
       "      <td>16.898717</td>\n",
       "    </tr>\n",
       "    <tr>\n",
       "      <th>Ônibus</th>\n",
       "      <td>5194.131997</td>\n",
       "      <td>21.701760</td>\n",
       "    </tr>\n",
       "    <tr>\n",
       "      <th>Pedestre</th>\n",
       "      <td>7680.108022</td>\n",
       "      <td>32.088491</td>\n",
       "    </tr>\n",
       "  </tbody>\n",
       "</table>\n",
       "</div>"
      ],
      "text/plain": [
       "                   FE_VIA        POR\n",
       "MODOPRIN                            \n",
       "Fretado         33.373288   0.139438\n",
       "Moto (Pass)     38.756545   0.161930\n",
       "Outros          54.022884   0.225715\n",
       "Taxi            82.740818   0.345702\n",
       "Bicicleta      204.502333   0.854437\n",
       "Aplicativo     248.505666   1.038289\n",
       "Moto (Mot)     428.841262   1.791755\n",
       "Trem           461.244814   1.927141\n",
       "Escolar       1109.074797   4.633859\n",
       "Carro (Pass)  1828.925222   7.641488\n",
       "Metrô         2525.359141  10.551279\n",
       "Carro (Mot)   4044.564522  16.898717\n",
       "Ônibus        5194.131997  21.701760\n",
       "Pedestre      7680.108022  32.088491"
      ]
     },
     "execution_count": 12,
     "metadata": {},
     "output_type": "execute_result"
    }
   ],
   "source": [
    "conj17['POR'] = conj17['FE_VIA'] / conj17['FE_VIA'].sum() * 100\n",
    "conj17"
   ]
  },
  {
   "cell_type": "code",
   "execution_count": 44,
   "metadata": {},
   "outputs": [
    {
     "data": {
      "image/png": "[encoded data removed]",
      "text/plain": [
       "<Figure size 1152x720 with 1 Axes>"
      ]
     },
     "metadata": {
      "needs_background": "light"
     },
     "output_type": "display_data"
    },
    {
     "name": "stdout",
     "output_type": "stream",
     "text": [
      "               Bicicleta     Total  Bicicleta (%)  DISTANCE\n",
      "Bicicleta       1.000000  0.190898       0.790813 -0.101630\n",
      "Total           0.190898  1.000000      -0.290611  0.142585\n",
      "Bicicleta (%)   0.790813 -0.290611       1.000000 -0.157357\n",
      "DISTANCE       -0.101630  0.142585      -0.157357  1.000000\n"
     ]
    }
   ],
   "source": [
    "distri_renda = data17[['NOME_O', 'DISTANCE']].groupby(['NOME_O']).mean().sort_values(by=['DISTANCE']).reset_index()\n",
    "distri_renda.columns = ['NOME_O', 'DISTANCE']\n",
    "\n",
    "distri_renda = distri_renda.set_index('NOME_O')\n",
    "distri_renda.tail()\n",
    "\n",
    "\n",
    "distri_renda = modo_distri.join(distri_renda)\n",
    "distri_renda\n",
    "\n",
    "plt.figure(figsize=(16,10))\n",
    "\n",
    "sns.scatterplot(x=\"Bicicleta (%)\", y=\"DISTANCE\", data=distri_renda).set_title('Distância x Viagens de Bicicleta')\n",
    "plt.xlabel('Viagens de Bicicleta (%)', fontsize=14)\n",
    "plt.ylabel('Distância', fontsize=14)\n",
    "plt.show()\n",
    "\n",
    "print(distri_renda.corr())"
   ]
  },
  {
   "cell_type": "markdown",
   "metadata": {},
   "source": [
    "20 vezes mais ciagens de carro"
   ]
  },
  {
   "cell_type": "code",
   "execution_count": 13,
   "metadata": {},
   "outputs": [
    {
     "data": {
      "text/plain": [
       "<matplotlib.axes._subplots.AxesSubplot at 0x7f83d46e4358>"
      ]
     },
     "execution_count": 13,
     "metadata": {},
     "output_type": "execute_result"
    },
    {
     "data": {
      "image/png": "[encoded data removed]",
      "text/plain": [
       "<Figure size 432x288 with 1 Axes>"
      ]
     },
     "metadata": {
      "needs_background": "light"
     },
     "output_type": "display_data"
    }
   ],
   "source": [
    "bicicleta = data17[data17['MODOPRIN'] == 'Bicicleta']\n",
    "\n",
    "carro = data17[data17['MODOPRIN'] == 'Carro (Mot)']\n",
    "\n",
    "\n",
    "total = bicicleta.append(carro)\n",
    "total.head()\n",
    "\n",
    "sns.boxplot(x=\"MODOPRIN\", y=\"DISTANCE\", data=total, palette=\"muted\", showfliers = False)\n",
    "\n"
   ]
  },
  {
   "cell_type": "markdown",
   "metadata": {},
   "source": [
    "Apesar das viagens de bicicletas serem menores que as de carro, metade das viagens de carro tem distâncias iguais ou menores que 75% viagens de bicicletas"
   ]
  },
  {
   "cell_type": "code",
   "execution_count": 14,
   "metadata": {},
   "outputs": [],
   "source": [
    "flows = pd.read_csv(\"../data/flows.csv\", encoding='latin-1')\n",
    "lines = []\n",
    "viagens = []\n",
    "\n",
    "flows = flows.set_index('index')\n",
    "\n",
    "flows = flows.join(data17, lsuffix='_left', rsuffix='_right')"
   ]
  },
  {
   "cell_type": "code",
   "execution_count": 15,
   "metadata": {},
   "outputs": [
    {
     "data": {
      "text/plain": [
       "375844.514095"
      ]
     },
     "execution_count": 15,
     "metadata": {},
     "output_type": "execute_result"
    }
   ],
   "source": [
    "flows_dist = flows[flows['MODOPRIN'] == 'Carro (Mot)']\n",
    "flows_dist['FE_VIA'].sum()"
   ]
  },
  {
   "cell_type": "markdown",
   "metadata": {},
   "source": [
    "375 mil viagens feitas de carro tem menos de 6km e inclinição máxima de 4%"
   ]
  },
  {
   "cell_type": "code",
   "execution_count": 16,
   "metadata": {},
   "outputs": [
    {
     "data": {
      "image/png": "[encoded data removed]",
      "text/plain": [
       "<Figure size 1296x720 with 1 Axes>"
      ]
     },
     "metadata": {
      "needs_background": "light"
     },
     "output_type": "display_data"
    }
   ],
   "source": [
    "ax = sns.boxplot(x=\"DISTANCE\", data=flows_dist, palette=\"muted\", showfliers = False)\n",
    "ax.set_xlabel(\"Distância\")\n",
    "ax.figure.set_size_inches(18,10)\n",
    "plt.show()\n"
   ]
  },
  {
   "cell_type": "code",
   "execution_count": 17,
   "metadata": {},
   "outputs": [
    {
     "data": {
      "image/png": "[encoded data removed]",
      "text/plain": [
       "<Figure size 1296x720 with 1 Axes>"
      ]
     },
     "metadata": {
      "needs_background": "light"
     },
     "output_type": "display_data"
    }
   ],
   "source": [
    "plt.figure(figsize=(30,20))\n",
    "# plot chart\n",
    "\n",
    "ax = flows_dist['DISTANCE'].hist()\n",
    "ax.figure.set_size_inches(18,10)\n",
    "\n",
    "plt.xlabel('Distância', fontsize=14)\n",
    "plt.ylabel('Número de Viagens (x100)', fontsize=14)\n",
    "\n",
    "# plot table\n",
    "plt.show()\n"
   ]
  },
  {
   "cell_type": "markdown",
   "metadata": {},
   "source": [
    "Apesar de termos considerado 6km, a maioria dessas viagens tem até 3km"
   ]
  },
  {
   "cell_type": "code",
   "execution_count": 18,
   "metadata": {},
   "outputs": [
    {
     "data": {
      "text/html": [
       "<div>\n",
       "<style scoped>\n",
       "    .dataframe tbody tr th:only-of-type {\n",
       "        vertical-align: middle;\n",
       "    }\n",
       "\n",
       "    .dataframe tbody tr th {\n",
       "        vertical-align: top;\n",
       "    }\n",
       "\n",
       "    .dataframe thead th {\n",
       "        text-align: right;\n",
       "    }\n",
       "</style>\n",
       "<table border=\"1\" class=\"dataframe\">\n",
       "  <thead>\n",
       "    <tr style=\"text-align: right;\">\n",
       "      <th></th>\n",
       "      <th>Viagens</th>\n",
       "    </tr>\n",
       "    <tr>\n",
       "      <th>NOME_O</th>\n",
       "      <th></th>\n",
       "    </tr>\n",
       "  </thead>\n",
       "  <tbody>\n",
       "    <tr>\n",
       "      <th>Santo Amaro</th>\n",
       "      <td>41907</td>\n",
       "    </tr>\n",
       "    <tr>\n",
       "      <th>Jardim Helena</th>\n",
       "      <td>28150</td>\n",
       "    </tr>\n",
       "    <tr>\n",
       "      <th>Itaim Bibi</th>\n",
       "      <td>25185</td>\n",
       "    </tr>\n",
       "    <tr>\n",
       "      <th>Mooca</th>\n",
       "      <td>16908</td>\n",
       "    </tr>\n",
       "    <tr>\n",
       "      <th>Moema</th>\n",
       "      <td>16351</td>\n",
       "    </tr>\n",
       "    <tr>\n",
       "      <th>Jabaquara</th>\n",
       "      <td>14105</td>\n",
       "    </tr>\n",
       "    <tr>\n",
       "      <th>Ipiranga</th>\n",
       "      <td>14035</td>\n",
       "    </tr>\n",
       "    <tr>\n",
       "      <th>Tatuape</th>\n",
       "      <td>13964</td>\n",
       "    </tr>\n",
       "    <tr>\n",
       "      <th>Saude</th>\n",
       "      <td>13940</td>\n",
       "    </tr>\n",
       "    <tr>\n",
       "      <th>Belem</th>\n",
       "      <td>13922</td>\n",
       "    </tr>\n",
       "  </tbody>\n",
       "</table>\n",
       "</div>"
      ],
      "text/plain": [
       "               Viagens\n",
       "NOME_O                \n",
       "Santo Amaro      41907\n",
       "Jardim Helena    28150\n",
       "Itaim Bibi       25185\n",
       "Mooca            16908\n",
       "Moema            16351\n",
       "Jabaquara        14105\n",
       "Ipiranga         14035\n",
       "Tatuape          13964\n",
       "Saude            13940\n",
       "Belem            13922"
      ]
     },
     "execution_count": 18,
     "metadata": {},
     "output_type": "execute_result"
    }
   ],
   "source": [
    "flows = pd.read_csv(\"../data/flows.csv\", encoding='latin-1')\n",
    "lines = []\n",
    "viagens = []\n",
    "\n",
    "flows = flows.set_index('index')\n",
    "\n",
    "flows = flows.join(data17, lsuffix='_left', rsuffix='_right')\n",
    "\n",
    "distri = flows[['NOME_O', 'FE_VIA']].groupby(['NOME_O']).sum().sort_values(by=['FE_VIA'],ascending=False).reset_index()\n",
    "distri.columns = ['NOME_O', 'FE_VIA_CARRO']\n",
    "distri = distri.set_index('NOME_O')\n",
    "distri['FE_VIA_CARRO'] = distri['FE_VIA_CARRO'].astype(int)\n",
    "distri.columns = ['Viagens']\n",
    "distri.head(10)"
   ]
  },
  {
   "cell_type": "code",
   "execution_count": 19,
   "metadata": {},
   "outputs": [
    {
     "data": {
      "text/html": [
       "<div>\n",
       "<style scoped>\n",
       "    .dataframe tbody tr th:only-of-type {\n",
       "        vertical-align: middle;\n",
       "    }\n",
       "\n",
       "    .dataframe tbody tr th {\n",
       "        vertical-align: top;\n",
       "    }\n",
       "\n",
       "    .dataframe thead th {\n",
       "        text-align: right;\n",
       "    }\n",
       "</style>\n",
       "<table border=\"1\" class=\"dataframe\">\n",
       "  <thead>\n",
       "    <tr style=\"text-align: right;\">\n",
       "      <th></th>\n",
       "      <th>FE_VIA_BICI</th>\n",
       "    </tr>\n",
       "    <tr>\n",
       "      <th>NOME_O</th>\n",
       "      <th></th>\n",
       "    </tr>\n",
       "  </thead>\n",
       "  <tbody>\n",
       "    <tr>\n",
       "      <th>Cidade Ademar</th>\n",
       "      <td>66.958224</td>\n",
       "    </tr>\n",
       "    <tr>\n",
       "      <th>Capao Redondo</th>\n",
       "      <td>268.767697</td>\n",
       "    </tr>\n",
       "    <tr>\n",
       "      <th>Tucuruvi</th>\n",
       "      <td>271.691487</td>\n",
       "    </tr>\n",
       "    <tr>\n",
       "      <th>Jabaquara</th>\n",
       "      <td>283.990582</td>\n",
       "    </tr>\n",
       "    <tr>\n",
       "      <th>Vila Medeiros</th>\n",
       "      <td>355.589808</td>\n",
       "    </tr>\n",
       "    <tr>\n",
       "      <th>Vila Matilde</th>\n",
       "      <td>434.112580</td>\n",
       "    </tr>\n",
       "    <tr>\n",
       "      <th>Campo Grande</th>\n",
       "      <td>471.568874</td>\n",
       "    </tr>\n",
       "    <tr>\n",
       "      <th>Brasilandia</th>\n",
       "      <td>485.014355</td>\n",
       "    </tr>\n",
       "    <tr>\n",
       "      <th>Guaianases</th>\n",
       "      <td>659.915535</td>\n",
       "    </tr>\n",
       "    <tr>\n",
       "      <th>Cidade Tiradentes</th>\n",
       "      <td>659.915535</td>\n",
       "    </tr>\n",
       "  </tbody>\n",
       "</table>\n",
       "</div>"
      ],
      "text/plain": [
       "                   FE_VIA_BICI\n",
       "NOME_O                        \n",
       "Cidade Ademar        66.958224\n",
       "Capao Redondo       268.767697\n",
       "Tucuruvi            271.691487\n",
       "Jabaquara           283.990582\n",
       "Vila Medeiros       355.589808\n",
       "Vila Matilde        434.112580\n",
       "Campo Grande        471.568874\n",
       "Brasilandia         485.014355\n",
       "Guaianases          659.915535\n",
       "Cidade Tiradentes   659.915535"
      ]
     },
     "execution_count": 19,
     "metadata": {},
     "output_type": "execute_result"
    }
   ],
   "source": [
    "bicicleta = data17[data17['MODOPRIN'] == 'Bicicleta']\n",
    "distri_atual = bicicleta[['NOME_O', 'FE_VIA']].groupby(['NOME_O']).sum().sort_values(by=['FE_VIA']).reset_index()\n",
    "distri_atual.columns = ['NOME_O', 'FE_VIA_BICI']\n",
    "distri_atual = distri_atual.set_index('NOME_O')\n",
    "distri_atual.head(10)"
   ]
  },
  {
   "cell_type": "code",
   "execution_count": 20,
   "metadata": {},
   "outputs": [
    {
     "data": {
      "text/html": [
       "<div>\n",
       "<style scoped>\n",
       "    .dataframe tbody tr th:only-of-type {\n",
       "        vertical-align: middle;\n",
       "    }\n",
       "\n",
       "    .dataframe tbody tr th {\n",
       "        vertical-align: top;\n",
       "    }\n",
       "\n",
       "    .dataframe thead th {\n",
       "        text-align: right;\n",
       "    }\n",
       "</style>\n",
       "<table border=\"1\" class=\"dataframe\">\n",
       "  <thead>\n",
       "    <tr style=\"text-align: right;\">\n",
       "      <th></th>\n",
       "      <th>Viagens</th>\n",
       "      <th>FE_VIA_BICI</th>\n",
       "    </tr>\n",
       "    <tr>\n",
       "      <th>NOME_O</th>\n",
       "      <th></th>\n",
       "      <th></th>\n",
       "    </tr>\n",
       "  </thead>\n",
       "  <tbody>\n",
       "    <tr>\n",
       "      <th>Santo Amaro</th>\n",
       "      <td>41907</td>\n",
       "      <td>1996.199482</td>\n",
       "    </tr>\n",
       "    <tr>\n",
       "      <th>Jardim Helena</th>\n",
       "      <td>28150</td>\n",
       "      <td>8628.820164</td>\n",
       "    </tr>\n",
       "    <tr>\n",
       "      <th>Itaim Bibi</th>\n",
       "      <td>25185</td>\n",
       "      <td>11245.446740</td>\n",
       "    </tr>\n",
       "    <tr>\n",
       "      <th>Mooca</th>\n",
       "      <td>16908</td>\n",
       "      <td>2913.315667</td>\n",
       "    </tr>\n",
       "    <tr>\n",
       "      <th>Moema</th>\n",
       "      <td>16351</td>\n",
       "      <td>4765.634372</td>\n",
       "    </tr>\n",
       "    <tr>\n",
       "      <th>Jabaquara</th>\n",
       "      <td>14105</td>\n",
       "      <td>283.990582</td>\n",
       "    </tr>\n",
       "    <tr>\n",
       "      <th>Ipiranga</th>\n",
       "      <td>14035</td>\n",
       "      <td>10385.901690</td>\n",
       "    </tr>\n",
       "    <tr>\n",
       "      <th>Tatuape</th>\n",
       "      <td>13964</td>\n",
       "      <td>1312.786980</td>\n",
       "    </tr>\n",
       "    <tr>\n",
       "      <th>Saude</th>\n",
       "      <td>13940</td>\n",
       "      <td>4052.589286</td>\n",
       "    </tr>\n",
       "    <tr>\n",
       "      <th>Belem</th>\n",
       "      <td>13922</td>\n",
       "      <td>1006.951883</td>\n",
       "    </tr>\n",
       "  </tbody>\n",
       "</table>\n",
       "</div>"
      ],
      "text/plain": [
       "               Viagens   FE_VIA_BICI\n",
       "NOME_O                              \n",
       "Santo Amaro      41907   1996.199482\n",
       "Jardim Helena    28150   8628.820164\n",
       "Itaim Bibi       25185  11245.446740\n",
       "Mooca            16908   2913.315667\n",
       "Moema            16351   4765.634372\n",
       "Jabaquara        14105    283.990582\n",
       "Ipiranga         14035  10385.901690\n",
       "Tatuape          13964   1312.786980\n",
       "Saude            13940   4052.589286\n",
       "Belem            13922   1006.951883"
      ]
     },
     "execution_count": 20,
     "metadata": {},
     "output_type": "execute_result"
    }
   ],
   "source": [
    "total = distri.join(distri_atual)\n",
    "total.head(10)"
   ]
  },
  {
   "cell_type": "code",
   "execution_count": 21,
   "metadata": {},
   "outputs": [
    {
     "data": {
      "text/html": [
       "<div>\n",
       "<style scoped>\n",
       "    .dataframe tbody tr th:only-of-type {\n",
       "        vertical-align: middle;\n",
       "    }\n",
       "\n",
       "    .dataframe tbody tr th {\n",
       "        vertical-align: top;\n",
       "    }\n",
       "\n",
       "    .dataframe thead th {\n",
       "        text-align: right;\n",
       "    }\n",
       "</style>\n",
       "<table border=\"1\" class=\"dataframe\">\n",
       "  <thead>\n",
       "    <tr style=\"text-align: right;\">\n",
       "      <th></th>\n",
       "      <th>Viagens</th>\n",
       "      <th>FE_VIA_BICI</th>\n",
       "      <th>POR</th>\n",
       "    </tr>\n",
       "    <tr>\n",
       "      <th>NOME_O</th>\n",
       "      <th></th>\n",
       "      <th></th>\n",
       "      <th></th>\n",
       "    </tr>\n",
       "  </thead>\n",
       "  <tbody>\n",
       "    <tr>\n",
       "      <th>Santo Amaro</th>\n",
       "      <td>41907</td>\n",
       "      <td>1996.199482</td>\n",
       "      <td>4.546820</td>\n",
       "    </tr>\n",
       "    <tr>\n",
       "      <th>Jardim Helena</th>\n",
       "      <td>28150</td>\n",
       "      <td>8628.820164</td>\n",
       "      <td>23.461384</td>\n",
       "    </tr>\n",
       "    <tr>\n",
       "      <th>Itaim Bibi</th>\n",
       "      <td>25185</td>\n",
       "      <td>11245.446740</td>\n",
       "      <td>30.868265</td>\n",
       "    </tr>\n",
       "    <tr>\n",
       "      <th>Mooca</th>\n",
       "      <td>16908</td>\n",
       "      <td>2913.315667</td>\n",
       "      <td>14.697892</td>\n",
       "    </tr>\n",
       "    <tr>\n",
       "      <th>Moema</th>\n",
       "      <td>16351</td>\n",
       "      <td>4765.634372</td>\n",
       "      <td>22.568153</td>\n",
       "    </tr>\n",
       "    <tr>\n",
       "      <th>Jabaquara</th>\n",
       "      <td>14105</td>\n",
       "      <td>283.990582</td>\n",
       "      <td>1.973666</td>\n",
       "    </tr>\n",
       "    <tr>\n",
       "      <th>Ipiranga</th>\n",
       "      <td>14035</td>\n",
       "      <td>10385.901690</td>\n",
       "      <td>42.528740</td>\n",
       "    </tr>\n",
       "    <tr>\n",
       "      <th>Tatuape</th>\n",
       "      <td>13964</td>\n",
       "      <td>1312.786980</td>\n",
       "      <td>8.593345</td>\n",
       "    </tr>\n",
       "    <tr>\n",
       "      <th>Saude</th>\n",
       "      <td>13940</td>\n",
       "      <td>4052.589286</td>\n",
       "      <td>22.523658</td>\n",
       "    </tr>\n",
       "    <tr>\n",
       "      <th>Belem</th>\n",
       "      <td>13922</td>\n",
       "      <td>1006.951883</td>\n",
       "      <td>6.744960</td>\n",
       "    </tr>\n",
       "  </tbody>\n",
       "</table>\n",
       "</div>"
      ],
      "text/plain": [
       "               Viagens   FE_VIA_BICI        POR\n",
       "NOME_O                                         \n",
       "Santo Amaro      41907   1996.199482   4.546820\n",
       "Jardim Helena    28150   8628.820164  23.461384\n",
       "Itaim Bibi       25185  11245.446740  30.868265\n",
       "Mooca            16908   2913.315667  14.697892\n",
       "Moema            16351   4765.634372  22.568153\n",
       "Jabaquara        14105    283.990582   1.973666\n",
       "Ipiranga         14035  10385.901690  42.528740\n",
       "Tatuape          13964   1312.786980   8.593345\n",
       "Saude            13940   4052.589286  22.523658\n",
       "Belem            13922   1006.951883   6.744960"
      ]
     },
     "execution_count": 21,
     "metadata": {},
     "output_type": "execute_result"
    }
   ],
   "source": [
    "total['POR'] = total['FE_VIA_BICI'] / (total['Viagens'] + total['FE_VIA_BICI']) * 100\n",
    "total.head(10)"
   ]
  },
  {
   "cell_type": "code",
   "execution_count": 22,
   "metadata": {},
   "outputs": [
    {
     "data": {
      "text/plain": [
       "index\n",
       "826     23.0\n",
       "1181    22.0\n",
       "1444     2.0\n",
       "1676    16.0\n",
       "1720    16.0\n",
       "Name: H_SAIDA, dtype: float64"
      ]
     },
     "execution_count": 22,
     "metadata": {},
     "output_type": "execute_result"
    }
   ],
   "source": [
    "flows['H_SAIDA'].head()"
   ]
  },
  {
   "cell_type": "code",
   "execution_count": 23,
   "metadata": {},
   "outputs": [
    {
     "data": {
      "image/png": "[encoded data removed]",
      "text/plain": [
       "<Figure size 1296x720 with 1 Axes>"
      ]
     },
     "metadata": {
      "needs_background": "light"
     },
     "output_type": "display_data"
    }
   ],
   "source": [
    "hsaida = flows[['H_SAIDA', 'FE_VIA']].groupby(['H_SAIDA']).sum().sort_values(by=['H_SAIDA']).reset_index()\n",
    "hsaida.columns = ['H_SAIDA', 'FE_VIA']\n",
    "\n",
    "hsaida['H_SAIDA'] = hsaida['H_SAIDA'].astype(int)\n",
    "\n",
    "ax = hsaida.plot.bar(x='H_SAIDA', y='FE_VIA', rot=0)\n",
    "ax.figure.set_size_inches(18,10)\n",
    "\n",
    "plt.xlabel('Hora da Viagem', fontsize=14)\n",
    "plt.ylabel('Número de Viagens', fontsize=14)\n",
    "\n",
    "plt.show()"
   ]
  },
  {
   "cell_type": "code",
   "execution_count": 24,
   "metadata": {},
   "outputs": [
    {
     "data": {
      "text/html": [
       "<div>\n",
       "<style scoped>\n",
       "    .dataframe tbody tr th:only-of-type {\n",
       "        vertical-align: middle;\n",
       "    }\n",
       "\n",
       "    .dataframe tbody tr th {\n",
       "        vertical-align: top;\n",
       "    }\n",
       "\n",
       "    .dataframe thead th {\n",
       "        text-align: right;\n",
       "    }\n",
       "</style>\n",
       "<table border=\"1\" class=\"dataframe\">\n",
       "  <thead>\n",
       "    <tr style=\"text-align: right;\">\n",
       "      <th></th>\n",
       "      <th>Viagens</th>\n",
       "    </tr>\n",
       "    <tr>\n",
       "      <th>NOME_O</th>\n",
       "      <th></th>\n",
       "    </tr>\n",
       "  </thead>\n",
       "  <tbody>\n",
       "    <tr>\n",
       "      <th>Santo Amaro</th>\n",
       "      <td>17940</td>\n",
       "    </tr>\n",
       "    <tr>\n",
       "      <th>Mooca</th>\n",
       "      <td>17168</td>\n",
       "    </tr>\n",
       "    <tr>\n",
       "      <th>Sao Miguel</th>\n",
       "      <td>13407</td>\n",
       "    </tr>\n",
       "    <tr>\n",
       "      <th>Itaquera</th>\n",
       "      <td>12298</td>\n",
       "    </tr>\n",
       "    <tr>\n",
       "      <th>Itaim Paulista</th>\n",
       "      <td>12190</td>\n",
       "    </tr>\n",
       "    <tr>\n",
       "      <th>Jardim Helena</th>\n",
       "      <td>9976</td>\n",
       "    </tr>\n",
       "    <tr>\n",
       "      <th>Belem</th>\n",
       "      <td>8980</td>\n",
       "    </tr>\n",
       "    <tr>\n",
       "      <th>Bras</th>\n",
       "      <td>8740</td>\n",
       "    </tr>\n",
       "    <tr>\n",
       "      <th>Sapopemba</th>\n",
       "      <td>7926</td>\n",
       "    </tr>\n",
       "    <tr>\n",
       "      <th>Saude</th>\n",
       "      <td>7843</td>\n",
       "    </tr>\n",
       "  </tbody>\n",
       "</table>\n",
       "</div>"
      ],
      "text/plain": [
       "                Viagens\n",
       "NOME_O                 \n",
       "Santo Amaro       17940\n",
       "Mooca             17168\n",
       "Sao Miguel        13407\n",
       "Itaquera          12298\n",
       "Itaim Paulista    12190\n",
       "Jardim Helena      9976\n",
       "Belem              8980\n",
       "Bras               8740\n",
       "Sapopemba          7926\n",
       "Saude              7843"
      ]
     },
     "execution_count": 24,
     "metadata": {},
     "output_type": "execute_result"
    }
   ],
   "source": [
    "flows = pd.read_csv(\"../data/flows_public.csv\", encoding='latin-1')\n",
    "lines = []\n",
    "viagens = []\n",
    "\n",
    "flows = flows.set_index('index')\n",
    "\n",
    "flows = flows.join(data17, lsuffix='_left', rsuffix='_right')\n",
    "\n",
    "distri = flows[['NOME_O', 'FE_VIA']].groupby(['NOME_O']).sum().sort_values(by=['FE_VIA'],ascending=False).reset_index()\n",
    "distri.columns = ['NOME_O', 'FE_VIA_CARRO']\n",
    "distri = distri.set_index('NOME_O')\n",
    "distri['FE_VIA_CARRO'] = distri['FE_VIA_CARRO'].astype(int)\n",
    "distri.columns = ['Viagens']\n",
    "distri.head(10)"
   ]
  },
  {
   "cell_type": "code",
   "execution_count": 25,
   "metadata": {},
   "outputs": [
    {
     "data": {
      "text/plain": [
       "336474"
      ]
     },
     "execution_count": 25,
     "metadata": {},
     "output_type": "execute_result"
    }
   ],
   "source": [
    "distri['Viagens'].sum()"
   ]
  },
  {
   "cell_type": "code",
   "execution_count": 26,
   "metadata": {},
   "outputs": [
    {
     "data": {
      "text/html": [
       "<div>\n",
       "<style scoped>\n",
       "    .dataframe tbody tr th:only-of-type {\n",
       "        vertical-align: middle;\n",
       "    }\n",
       "\n",
       "    .dataframe tbody tr th {\n",
       "        vertical-align: top;\n",
       "    }\n",
       "\n",
       "    .dataframe thead th {\n",
       "        text-align: right;\n",
       "    }\n",
       "</style>\n",
       "<table border=\"1\" class=\"dataframe\">\n",
       "  <thead>\n",
       "    <tr style=\"text-align: right;\">\n",
       "      <th></th>\n",
       "      <th>Viagens</th>\n",
       "    </tr>\n",
       "    <tr>\n",
       "      <th>MODOPRIN</th>\n",
       "      <th></th>\n",
       "    </tr>\n",
       "  </thead>\n",
       "  <tbody>\n",
       "    <tr>\n",
       "      <th>Ônibus</th>\n",
       "      <td>281900</td>\n",
       "    </tr>\n",
       "    <tr>\n",
       "      <th>Metrô</th>\n",
       "      <td>48800</td>\n",
       "    </tr>\n",
       "    <tr>\n",
       "      <th>Trem</th>\n",
       "      <td>5814</td>\n",
       "    </tr>\n",
       "  </tbody>\n",
       "</table>\n",
       "</div>"
      ],
      "text/plain": [
       "          Viagens\n",
       "MODOPRIN         \n",
       "Ônibus     281900\n",
       "Metrô       48800\n",
       "Trem         5814"
      ]
     },
     "execution_count": 26,
     "metadata": {},
     "output_type": "execute_result"
    }
   ],
   "source": [
    "modo = flows[['MODOPRIN', 'FE_VIA']].groupby(['MODOPRIN']).sum().sort_values(by=['FE_VIA'],ascending=False).reset_index()\n",
    "modo.columns = ['MODOPRIN', 'FE_VIA_TRANS']\n",
    "modo = modo.set_index('MODOPRIN')\n",
    "modo['FE_VIA_TRANS'] = modo['FE_VIA_TRANS'].astype(int)\n",
    "modo.columns = ['Viagens']\n",
    "modo.head(10)"
   ]
  },
  {
   "cell_type": "code",
   "execution_count": 27,
   "metadata": {},
   "outputs": [
    {
     "data": {
      "image/png": "[encoded data removed]",
      "text/plain": [
       "<Figure size 1296x720 with 1 Axes>"
      ]
     },
     "metadata": {
      "needs_background": "light"
     },
     "output_type": "display_data"
    }
   ],
   "source": [
    "hsaida = flows[['H_SAIDA', 'FE_VIA']].groupby(['H_SAIDA']).sum().sort_values(by=['H_SAIDA']).reset_index()\n",
    "hsaida.columns = ['H_SAIDA', 'FE_VIA']\n",
    "\n",
    "hsaida['H_SAIDA'] = hsaida['H_SAIDA'].astype(int)\n",
    "\n",
    "ax = hsaida.plot.bar(x='H_SAIDA', y='FE_VIA', rot=0)\n",
    "ax.figure.set_size_inches(18,10)\n",
    "\n",
    "plt.xlabel('Hora da Viagem', fontsize=14)\n",
    "plt.ylabel('Número de Viagens', fontsize=14)\n",
    "\n",
    "plt.show()"
   ]
  },
  {
   "cell_type": "code",
   "execution_count": 28,
   "metadata": {},
   "outputs": [
    {
     "data": {
      "image/png": "[encoded data removed]",
      "text/plain": [
       "<Figure size 1296x720 with 1 Axes>"
      ]
     },
     "metadata": {
      "needs_background": "light"
     },
     "output_type": "display_data"
    }
   ],
   "source": [
    "flows = pd.read_csv(\"../data/flows_public.csv\", encoding='latin-1')\n",
    "lines = []\n",
    "viagens = []\n",
    "\n",
    "flows = flows.set_index('index')\n",
    "flows = flows.join(data17, lsuffix='_left', rsuffix='_right')\n",
    "\n",
    "flows['FE_VIA'].sum()\n",
    "\n",
    "plt.figure(figsize=(30,20))\n",
    "# plot chart\n",
    "\n",
    "ax = flows['DISTANCE'].hist()\n",
    "ax.figure.set_size_inches(18,10)\n",
    "\n",
    "plt.xlabel('Distância', fontsize=14)\n",
    "plt.ylabel('Número de Viagens (x10)', fontsize=14)\n",
    "\n",
    "# plot table\n",
    "plt.show()"
   ]
  },
  {
   "cell_type": "code",
   "execution_count": null,
   "metadata": {},
   "outputs": [],
   "source": []
  }
 ],
 "metadata": {
  "kernelspec": {
   "display_name": "Python 3",
   "language": "python",
   "name": "python3"
  },
  "language_info": {
   "codemirror_mode": {
    "name": "ipython",
    "version": 3
   },
   "file_extension": ".py",
   "mimetype": "text/x-python",
   "name": "python",
   "nbconvert_exporter": "python",
   "pygments_lexer": "ipython3",
   "version": "3.6.8"
  }
 },
 "nbformat": 4,
 "nbformat_minor": 2
}
